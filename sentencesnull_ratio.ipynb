{
 "cells": [
  {
   "cell_type": "code",
   "execution_count": 7,
   "metadata": {},
   "outputs": [
    {
     "data": {
      "text/plain": [
       "0.3652385293223944"
      ]
     },
     "execution_count": 7,
     "metadata": {},
     "output_type": "execute_result"
    }
   ],
   "source": [
    "from utils import conll2pandas\n",
    "\n",
    "df = conll2pandas('datasetAH.conll')\n",
    "df['isSentenceNull'] = df['tags'].apply(lambda tags: all([tag == 'O' for tag in tags]))\n",
    "df['isSentenceNull'].sum()/ len(df)"
   ]
  },
  {
   "cell_type": "code",
   "execution_count": 10,
   "metadata": {},
   "outputs": [],
   "source": [
    "harem = 0.5028427037271005\n",
    "corejur_v5 = 0.8279972887843388\n",
    "dataset_ah = 0.3652385293223944\n"
   ]
  },
  {
   "cell_type": "code",
   "execution_count": 16,
   "metadata": {},
   "outputs": [
    {
     "name": "stdout",
     "output_type": "stream",
     "text": [
      "Porcentagem de SENTENÇAS SEM ENTIDADAS DATASET => HAREM-TOTAL 50 %\n",
      "Porcentagem de SENTENÇAS SEM ENTIDADAS DATASET => COREJUR_V5 83 %\n",
      "Porcentagem de SENTENÇAS SEM ENTIDADAS DATASET => AH 37 %\n"
     ]
    }
   ],
   "source": [
    "print('Porcentagem de SENTENÇAS SEM ENTIDADAS DATASET => HAREM-TOTAL', int(round(harem, 2)*100) , '%')\n",
    "print('Porcentagem de SENTENÇAS SEM ENTIDADAS DATASET => COREJUR_V5', int(round(corejur_v5, 2)*100), '%')\n",
    "print('Porcentagem de SENTENÇAS SEM ENTIDADAS DATASET => AH', int(round(dataset_ah, 2)*100), '%')"
   ]
  },
  {
   "cell_type": "code",
   "execution_count": 4,
   "metadata": {},
   "outputs": [
    {
     "data": {
      "text/html": [
       "<div>\n",
       "<style scoped>\n",
       "    .dataframe tbody tr th:only-of-type {\n",
       "        vertical-align: middle;\n",
       "    }\n",
       "\n",
       "    .dataframe tbody tr th {\n",
       "        vertical-align: top;\n",
       "    }\n",
       "\n",
       "    .dataframe thead th {\n",
       "        text-align: right;\n",
       "    }\n",
       "</style>\n",
       "<table border=\"1\" class=\"dataframe\">\n",
       "  <thead>\n",
       "    <tr style=\"text-align: right;\">\n",
       "      <th></th>\n",
       "      <th>text</th>\n",
       "      <th>tags</th>\n",
       "      <th>isSentenceNull</th>\n",
       "    </tr>\n",
       "  </thead>\n",
       "  <tbody>\n",
       "    <tr>\n",
       "      <th>0</th>\n",
       "      <td>[Abraço, Página, Principal]</td>\n",
       "      <td>[B-ORGANIZACAO, O, O]</td>\n",
       "      <td>False</td>\n",
       "    </tr>\n",
       "    <tr>\n",
       "      <th>1</th>\n",
       "      <td>[ASSOCIAÇÃO, DE, APOIO, A, PESSOAS, COM, VIH/S...</td>\n",
       "      <td>[B-ORGANIZACAO, I-ORGANIZACAO, I-ORGANIZACAO, ...</td>\n",
       "      <td>False</td>\n",
       "    </tr>\n",
       "    <tr>\n",
       "      <th>2</th>\n",
       "      <td>[A, ABRAÇO, é, uma, Instituição, Particular, d...</td>\n",
       "      <td>[O, B-ORGANIZACAO, O, O, B-ORGANIZACAO, I-ORGA...</td>\n",
       "      <td>False</td>\n",
       "    </tr>\n",
       "    <tr>\n",
       "      <th>3</th>\n",
       "      <td>[Organização, não, governamental, sem, fins, l...</td>\n",
       "      <td>[O, O, O, O, O, O, O, O, O, O]</td>\n",
       "      <td>True</td>\n",
       "    </tr>\n",
       "    <tr>\n",
       "      <th>4</th>\n",
       "      <td>[em, a, área, de, a, SIDA, .]</td>\n",
       "      <td>[O, O, O, O, O, B-ABSTRACCAO, O]</td>\n",
       "      <td>False</td>\n",
       "    </tr>\n",
       "    <tr>\n",
       "      <th>...</th>\n",
       "      <td>...</td>\n",
       "      <td>...</td>\n",
       "      <td>...</td>\n",
       "    </tr>\n",
       "    <tr>\n",
       "      <th>4744</th>\n",
       "      <td>[A, Legião, da, Boa, Vontade, ocupa, ,, hoje, ...</td>\n",
       "      <td>[O, B-ORGANIZACAO, I-ORGANIZACAO, I-ORGANIZACA...</td>\n",
       "      <td>False</td>\n",
       "    </tr>\n",
       "    <tr>\n",
       "      <th>4745</th>\n",
       "      <td>[Em, Portugal, ,, a, Legião, da, Boa, Vontade,...</td>\n",
       "      <td>[O, B-LOCAL, O, O, B-ORGANIZACAO, I-ORGANIZACA...</td>\n",
       "      <td>False</td>\n",
       "    </tr>\n",
       "    <tr>\n",
       "      <th>4746</th>\n",
       "      <td>[PCP, de, Braga, promove, lanche, e, intervenç...</td>\n",
       "      <td>[B-ORGANIZACAO, O, B-LOCAL, O, O, O, O, O]</td>\n",
       "      <td>False</td>\n",
       "    </tr>\n",
       "    <tr>\n",
       "      <th>4747</th>\n",
       "      <td>[A, Comissão, Concelhia, de, Braga, do, PCP, p...</td>\n",
       "      <td>[O, B-ORGANIZACAO, I-ORGANIZACAO, I-ORGANIZACA...</td>\n",
       "      <td>False</td>\n",
       "    </tr>\n",
       "    <tr>\n",
       "      <th>4748</th>\n",
       "      <td>[Esta, iniciativa, insere, -, se, em, as, come...</td>\n",
       "      <td>[O, O, O, O, O, O, O, O, O, O, B-VALOR, I-VALO...</td>\n",
       "      <td>False</td>\n",
       "    </tr>\n",
       "  </tbody>\n",
       "</table>\n",
       "<p>4749 rows × 3 columns</p>\n",
       "</div>"
      ],
      "text/plain": [
       "                                                   text  \\\n",
       "0                           [Abraço, Página, Principal]   \n",
       "1     [ASSOCIAÇÃO, DE, APOIO, A, PESSOAS, COM, VIH/S...   \n",
       "2     [A, ABRAÇO, é, uma, Instituição, Particular, d...   \n",
       "3     [Organização, não, governamental, sem, fins, l...   \n",
       "4                         [em, a, área, de, a, SIDA, .]   \n",
       "...                                                 ...   \n",
       "4744  [A, Legião, da, Boa, Vontade, ocupa, ,, hoje, ...   \n",
       "4745  [Em, Portugal, ,, a, Legião, da, Boa, Vontade,...   \n",
       "4746  [PCP, de, Braga, promove, lanche, e, intervenç...   \n",
       "4747  [A, Comissão, Concelhia, de, Braga, do, PCP, p...   \n",
       "4748  [Esta, iniciativa, insere, -, se, em, as, come...   \n",
       "\n",
       "                                                   tags  isSentenceNull  \n",
       "0                                 [B-ORGANIZACAO, O, O]           False  \n",
       "1     [B-ORGANIZACAO, I-ORGANIZACAO, I-ORGANIZACAO, ...           False  \n",
       "2     [O, B-ORGANIZACAO, O, O, B-ORGANIZACAO, I-ORGA...           False  \n",
       "3                        [O, O, O, O, O, O, O, O, O, O]            True  \n",
       "4                      [O, O, O, O, O, B-ABSTRACCAO, O]           False  \n",
       "...                                                 ...             ...  \n",
       "4744  [O, B-ORGANIZACAO, I-ORGANIZACAO, I-ORGANIZACA...           False  \n",
       "4745  [O, B-LOCAL, O, O, B-ORGANIZACAO, I-ORGANIZACA...           False  \n",
       "4746         [B-ORGANIZACAO, O, B-LOCAL, O, O, O, O, O]           False  \n",
       "4747  [O, B-ORGANIZACAO, I-ORGANIZACAO, I-ORGANIZACA...           False  \n",
       "4748  [O, O, O, O, O, O, O, O, O, O, B-VALOR, I-VALO...           False  \n",
       "\n",
       "[4749 rows x 3 columns]"
      ]
     },
     "execution_count": 4,
     "metadata": {},
     "output_type": "execute_result"
    }
   ],
   "source": []
  },
  {
   "cell_type": "code",
   "execution_count": null,
   "metadata": {},
   "outputs": [],
   "source": []
  }
 ],
 "metadata": {
  "interpreter": {
   "hash": "cfcbf6a7a9777cb4b0ca773bd997656525824948b5bd87ee2f46d754fd24c8d0"
  },
  "kernelspec": {
   "display_name": "Python 3.9.7 ('deepml')",
   "language": "python",
   "name": "python3"
  },
  "language_info": {
   "codemirror_mode": {
    "name": "ipython",
    "version": 3
   },
   "file_extension": ".py",
   "mimetype": "text/x-python",
   "name": "python",
   "nbconvert_exporter": "python",
   "pygments_lexer": "ipython3",
   "version": "3.9.7"
  },
  "orig_nbformat": 4
 },
 "nbformat": 4,
 "nbformat_minor": 2
}
